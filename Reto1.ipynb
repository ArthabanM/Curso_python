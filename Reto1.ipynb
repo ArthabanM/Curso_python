{
  "cells": [
    {
      "cell_type": "markdown",
      "metadata": {
        "id": "nCjE4hgyjNPT"
      },
      "source": [
        "# Reto 1:\n",
        "\n",
        "---\n",
        "\n"
      ]
    },
    {
      "cell_type": "markdown",
      "metadata": {
        "id": "DUu2A4GtjRV6"
      },
      "source": [
        "## Ejercicio 1: Variables"
      ]
    },
    {
      "cell_type": "markdown",
      "metadata": {
        "id": "0qc1n8-ukahY"
      },
      "source": [
        "Crea una variable llamada `titulo_libro` y asignale el libro que más te guste"
      ]
    },
    {
      "cell_type": "code",
      "execution_count": 3,
      "metadata": {
        "id": "KJaYe7czkj6S"
      },
      "outputs": [
        {
          "name": "stdout",
          "output_type": "stream",
          "text": [
            "La Historia de un mañana\n"
          ]
        }
      ],
      "source": [
        "titulo_libro = \"La Historia de un mañana\"\n",
        "print(titulo_libro)"
      ]
    },
    {
      "cell_type": "markdown",
      "metadata": {
        "id": "sycdwGVhkMFA"
      },
      "source": [
        "Crea una variable llamada `numero_suerte` y asignale tu número de la suerte"
      ]
    },
    {
      "cell_type": "code",
      "execution_count": 4,
      "metadata": {
        "id": "P32CXA2zipLd"
      },
      "outputs": [
        {
          "name": "stdout",
          "output_type": "stream",
          "text": [
            "7\n"
          ]
        }
      ],
      "source": [
        "numero_suerte = 7\n",
        "print(numero_suerte)"
      ]
    },
    {
      "cell_type": "markdown",
      "metadata": {
        "id": "8eCYlApolazY"
      },
      "source": [
        "Crea una variable llamada `suma_edades` y coloca la suma de las edades de los integrantes de equipo y al final manda a imprimir la variable con `print()`"
      ]
    },
    {
      "cell_type": "code",
      "execution_count": 5,
      "metadata": {
        "id": "I8s2uuELmSz2"
      },
      "outputs": [
        {
          "name": "stdout",
          "output_type": "stream",
          "text": [
            "La suma de las edades de los partisipantes es 63\n"
          ]
        }
      ],
      "source": [
        "suma_edades= 24+18+21\n",
        "print(f'La suma de las edades de los partisipantes es {suma_edades}')"
      ]
    },
    {
      "cell_type": "markdown",
      "metadata": {
        "id": "q3ZgvxgbmuEO"
      },
      "source": [
        "## Ejercicio 2: Suma de variables"
      ]
    },
    {
      "cell_type": "markdown",
      "metadata": {
        "id": "154gcOAonErO"
      },
      "source": [
        "Escogan 3 números aleatorioamente entre 100 y 1000 en equipo y asignenlos a `valor1`, `valor2` y `valor2`"
      ]
    },
    {
      "cell_type": "code",
      "execution_count": null,
      "metadata": {
        "id": "08Hx8yB6n3WM"
      },
      "outputs": [],
      "source": [
        "valor1 =723\n",
        "valor2 =856\n",
        "valor3 =873"
      ]
    },
    {
      "cell_type": "markdown",
      "metadata": {
        "id": "5nTdHJsUn58G"
      },
      "source": [
        "Ahora imprimir la suma de `valor1` con `valor3`"
      ]
    },
    {
      "cell_type": "code",
      "execution_count": 16,
      "metadata": {
        "id": "cbti4yg7oFXZ"
      },
      "outputs": [
        {
          "name": "stdout",
          "output_type": "stream",
          "text": [
            "1596\n"
          ]
        }
      ],
      "source": [
        "suma13= valor1 + valor3\n",
        "print(suma13)"
      ]
    },
    {
      "cell_type": "markdown",
      "metadata": {
        "id": "RfaCkVzDoHbg"
      },
      "source": [
        "La resta de `valor2` menos `valor3`"
      ]
    },
    {
      "cell_type": "code",
      "execution_count": 15,
      "metadata": {
        "id": "tk-NBtb7oOsQ"
      },
      "outputs": [
        {
          "name": "stdout",
          "output_type": "stream",
          "text": [
            "-17\n"
          ]
        }
      ],
      "source": [
        "resta23 = valor2 - valor3\n",
        "print(resta23)"
      ]
    },
    {
      "cell_type": "markdown",
      "metadata": {
        "id": "1Xa_RHhYoRZF"
      },
      "source": [
        "La multiplicación entre `valor1` y `valor2`"
      ]
    },
    {
      "cell_type": "code",
      "execution_count": 19,
      "metadata": {
        "id": "YMFFApCjoX-A"
      },
      "outputs": [
        {
          "name": "stdout",
          "output_type": "stream",
          "text": [
            "618888\n"
          ]
        }
      ],
      "source": [
        "multiplicacion= valor1 * valor2\n",
        "print(multiplicacion)"
      ]
    },
    {
      "cell_type": "markdown",
      "metadata": {
        "id": "rkLKuewFoeit"
      },
      "source": [
        "## Ejercicio 3: Format"
      ]
    },
    {
      "cell_type": "markdown",
      "metadata": {
        "id": "Do6iGYn7o-t2"
      },
      "source": [
        "Con la variable `suma_edades` que hiciste en el Ejercicio 1, deberas meterla en un print de tal manera que salga de esta manera el mensaje:\n",
        "\n",
        "**La suma de las edades de Juan, María y Pablo es de 45 años**\n",
        "\n",
        "Cambia los nombres, por los integrantes del equipo"
      ]
    },
    {
      "cell_type": "code",
      "execution_count": 20,
      "metadata": {
        "id": "gQv9kyymov4z"
      },
      "outputs": [
        {
          "name": "stdout",
          "output_type": "stream",
          "text": [
            "La suma de las edades de Javier, Arthaban y Luis es 63\n"
          ]
        }
      ],
      "source": [
        "print(f'La suma de las edades de Javier, Arthaban y Luis es {suma_edades}')"
      ]
    },
    {
      "cell_type": "markdown",
      "metadata": {
        "id": "7YoThJ5wpjZG"
      },
      "source": [
        "Crea 3 varaibles, `ancho_terreno`, `largo_terrero` y `area_terreno`. \n",
        "\n",
        "Al ancho le asignaras 25 y al largo 30\n",
        "\n",
        "Sacaras el área con la formula Ancho x Alto y lo asiganaras a `area_terreno`.\n",
        "\n",
        "Imprime un mensaje en format que se vea de la siguiente manera, utilizando las variables\n",
        "\n",
        "**El área del terreno con un ancho de 25 mts y de largo 30 mts, es de: 750 mts cuadrados**"
      ]
    },
    {
      "cell_type": "code",
      "execution_count": 21,
      "metadata": {
        "id": "xlbWfbbEvGMH"
      },
      "outputs": [
        {
          "name": "stdout",
          "output_type": "stream",
          "text": [
            "El área del terreno con un ancho de 25mts y una longitud de 30mts, es de :750mts cuadrados\n"
          ]
        }
      ],
      "source": [
        "ancho_terreno = 25\n",
        "largo_terreno = 30\n",
        "area_terreno = ancho_terreno * largo_terreno \n",
        "print(f'El área del terreno con un ancho de {ancho_terreno}mts y una longitud de {largo_terreno}mts, es de :{area_terreno}mts cuadrados')"
      ]
    },
    {
      "cell_type": "markdown",
      "metadata": {
        "id": "my7VpwUcvp1K"
      },
      "source": [
        "## Ejercicio 4: Input"
      ]
    },
    {
      "cell_type": "markdown",
      "metadata": {
        "id": "mrZ0RxICwSsJ"
      },
      "source": [
        "Crea una variable llamada `nombre` donde le asiganaras un input que diga \"*Dame tu nombre*\".\n",
        "\n",
        "Crea una variable llamada `edad` donde le asignaras un input(dentro de un int) que diga \"*Dame tu edad*\".\n",
        "\n",
        "Manda a imprimir un format que diga:\n",
        "\n",
        "**\"Su nombre es: ____ y su edad es de ___ años\"**\n",
        "\n",
        "Todo en la misma celda"
      ]
    },
    {
      "cell_type": "code",
      "execution_count": 24,
      "metadata": {
        "id": "hCICpOwAvruU"
      },
      "outputs": [
        {
          "name": "stdout",
          "output_type": "stream",
          "text": [
            "Te repito tu información, tu nombre es: Arthaban y tu edad es de 24 años.\n"
          ]
        }
      ],
      "source": [
        "nombre= (input(\"¿Cuál es tu nombre?\"))\n",
        "edad= int(input(f'Mucho gusto {nombre}, ¿Qué edad tienes?'))\n",
        "\n",
        "print(f'Te repito tu información, tu nombre es: {nombre} y tu edad es de {edad} años.')"
      ]
    },
    {
      "cell_type": "markdown",
      "metadata": {
        "id": "C5jtrBn7x5KE"
      },
      "source": [
        "## Extra Points"
      ]
    },
    {
      "cell_type": "markdown",
      "metadata": {
        "id": "J1CV99N7x7RB"
      },
      "source": [
        "Crea una variable llamada `total` y le asignaras un input númerico que diga \"*Dame un número*\".\n",
        "\n",
        "Crea una varaible llamada `porcentaje` y le asignaaras un input númerico que diga \"*¿Qué porcentaje quieres sacar*\"\n",
        "\n",
        "Crea una variable llamada `resultado` donde haras el calculo del porcentaje del número con las variables `total` y `porcentaje` \n",
        "\n",
        "Manda a imprimir un format que diga \n",
        "\n",
        "**El ___ % de ____ es de ____**\n",
        "\n",
        "Todo en una misma celda\n"
      ]
    },
    {
      "cell_type": "code",
      "execution_count": 1,
      "metadata": {
        "id": "RXCty6A1x6VI"
      },
      "outputs": [
        {
          "name": "stdout",
          "output_type": "stream",
          "text": [
            "El 5% de 200 es de 10.0\n"
          ]
        }
      ],
      "source": [
        "numero= int(input('Dame un numero'))\n",
        "porcentaje= int (input('Qué porcentaje le queres sacar'))\n",
        "\n",
        "resultado= numero*porcentaje/100\n",
        "\n",
        "print(f'El {porcentaje}% de {numero} es de {resultado}')"
      ]
    },
    {
      "cell_type": "code",
      "execution_count": null,
      "metadata": {},
      "outputs": [],
      "source": []
    }
  ],
  "metadata": {
    "colab": {
      "collapsed_sections": [],
      "name": "Copia de Reto1.ipynb",
      "provenance": []
    },
    "kernelspec": {
      "display_name": "Python 3.11.0 64-bit",
      "language": "python",
      "name": "python3"
    },
    "language_info": {
      "codemirror_mode": {
        "name": "ipython",
        "version": 3
      },
      "file_extension": ".py",
      "mimetype": "text/x-python",
      "name": "python",
      "nbconvert_exporter": "python",
      "pygments_lexer": "ipython3",
      "version": "3.11.0"
    },
    "vscode": {
      "interpreter": {
        "hash": "aee8b7b246df8f9039afb4144a1f6fd8d2ca17a180786b69acc140d282b71a49"
      }
    }
  },
  "nbformat": 4,
  "nbformat_minor": 0
}
